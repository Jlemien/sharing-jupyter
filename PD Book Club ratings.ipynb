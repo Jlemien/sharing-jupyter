{
 "cells": [
  {
   "cell_type": "code",
   "execution_count": 30,
   "metadata": {},
   "outputs": [],
   "source": [
    "#import urllib\n",
    "import urllib.request\n",
    "import requests\n",
    "import bs4 as bs\n",
    "import openpyxl"
   ]
  },
  {
   "cell_type": "code",
   "execution_count": 31,
   "metadata": {},
   "outputs": [],
   "source": [
    "def get_entire_column(column_number):\n",
    "    value_list = []\n",
    "    count = 0\n",
    "    sum = 0\n",
    "    for i in range(1, sheet.max_row):\n",
    "        cell_value = (sheet.cell(row=i, column=column_number).value)\n",
    "        value_list.append(cell_value)\n",
    "        #print(cell_value)\n",
    "    return value_list\n",
    "\n",
    "authors = None\n",
    "titles = 1"
   ]
  },
  {
   "cell_type": "code",
   "execution_count": 32,
   "metadata": {},
   "outputs": [],
   "source": [
    "#import data from spreadsheet\n",
    "#  \"C:\\Users\\Josep\\Desktop\\PD Book Club.xlsx\"\n",
    "\n",
    "wb = openpyxl.load_workbook(r\"C:\\Users\\Josep\\Desktop\\PD Book Club.xlsx\", data_only=True)\n",
    "#print(\"The sheet names are as follows: \", wb.sheetnames)\n",
    "sheet = wb['My Books']\n",
    "#sheet['C1'].value = 42\n",
    "#wb.save('example2.xlsx')\n",
    "\n",
    "list_of_titles = get_entire_column(titles)\n",
    "list_of_authors = get_entire_column(authors)"
   ]
  },
  {
   "cell_type": "code",
   "execution_count": 35,
   "metadata": {
    "scrolled": true
   },
   "outputs": [
    {
     "name": "stdout",
     "output_type": "stream",
     "text": [
      "The rating for The 22 Immutable Laws of Branding has been written to the spreadsheet\n",
      "The rating for Winning: The Ultimate Business How-To Book has been written to the spreadsheet\n",
      "The rating for Smartcuts: How Hackers, Innovators, and Icons Accelerate Success has been written to the spreadsheet\n",
      "The rating for Making Things Happen: Mastering Project Management has been written to the spreadsheet\n",
      "The rating for Pitch Anything: An Innovative Method for Presenting, Persuading, and Winning the Deal has been written to the spreadsheet\n",
      "The rating for What Got You Here Won't Get You There in Sales: How Successful Salespeople Take It to the Next Level has been written to the spreadsheet\n",
      "The rating for The Advantage: Why Organizational Health Trumps Everything Else in Business has been written to the spreadsheet\n",
      "The rating for Never Eat Alone has been written to the spreadsheet\n",
      "The rating for Contagious Why Things Catch On has been written to the spreadsheet\n",
      "The rating for The Best of Guerrilla Marketing has been written to the spreadsheet\n",
      "The rating for Anything You Want: 40 Lessons for a New Kind of Entrepreneur has been written to the spreadsheet\n",
      "The rating for To Sell Is Human: The Surprising Truth About Moving Others has been written to the spreadsheet\n",
      "The rating for The Ultimate Marketing Plan has been written to the spreadsheet\n",
      "The rating for Drive has been written to the spreadsheet\n",
      "The rating for How to Win Friends and Influence People in the Digital Age has been written to the spreadsheet\n",
      "The rating for Smarter Faster Better: The Secrets of Being Productive in Life and Business has been written to the spreadsheet\n",
      "The rating for Build to Lead has been written to the spreadsheet\n",
      "The rating for Mindset: The New Psychology of Success has been written to the spreadsheet\n",
      "The rating for What’s the Future of Work? has been written to the spreadsheet\n",
      "The rating for Measure What Matters: How Google, Bono, and the Gates Foundation Rock the World with OKRs has been written to the spreadsheet\n",
      "The rating for Zero to One: Notes on Startups, or How to Build the Future has been written to the spreadsheet\n",
      "The rating for The Icarus Deception: How High Will You Fly? has been written to the spreadsheet\n",
      "The rating for Building a StoryBrand has been written to the spreadsheet\n",
      "The rating for Sell with a Story has been written to the spreadsheet\n",
      "The rating for Sales EQ has been written to the spreadsheet\n",
      "The rating for The Checklist Manifesto: How to Get Things Right has been written to the spreadsheet\n",
      "The rating for The Effective Manager has been written to the spreadsheet\n",
      "The rating for The Soul of Money: Transforming Your Relationship with Money and Life, Lynne Twist has been written to the spreadsheet\n",
      "The rating for The Business of Happiness: 6 Secrets to Extraordinary Success in Life and Work has been written to the spreadsheet\n",
      "The rating for The Billionaire Who Wasn't: How Chuck Feeney Secretly Made and Gave Away a Fortune has been written to the spreadsheet\n",
      "The rating for Turn the Ship Around!: A True Story of Turning Followers into Leaders has been written to the spreadsheet\n",
      "The rating for Antifragile: Things That Gain from Disorder (Incerto) Nassim Nicholas Taleb has been written to the spreadsheet\n",
      "The rating for Big Data: A Revolution That Will Transform How We Live, Work, and Think Viktor Mayer-Schonberger and Kenneth Cukier has been written to the spreadsheet\n",
      "The rating for Bringing Out the Best in People Aubrey C. Daniels has been written to the spreadsheet\n",
      "The rating for Built to Last: Successful Habits of Visionary Companies (Harper Business Essentials) Jim Collins and Jerry I. Porras has been written to the spreadsheet\n",
      "The rating for Change to Strange: Create a Great Organization by Building a Strange Workforce (paperback) Daniel Cable has been written to the spreadsheet\n",
      "The rating for Competing On Internet Time: Lessons From Netscape and Its Battle With Microsoft Michael A. Cusumano and David B. Yoffie has been written to the spreadsheet\n",
      "The rating for Crucial Conversations Tools for Talking When Stakes Are High, Second Edition Kerry Patterson, Joseph Grenny, Ron McMillan & Al Switzler has been written to the spreadsheet\n",
      "The rating for Drive: The Surprising Truth About What Motivates Us Daniel H. Pink has been written to the spreadsheet\n",
      "The rating for Emergence: The Connected Lives of Ants, Brains, Cities, and Software Steven Johnson has been written to the spreadsheet\n",
      "The rating for Epic Content Marketing: How to Tell a Different Story, Break through the Clutter, and Win More Customers by Marketing Less Joe Pulizzi has been written to the spreadsheet\n",
      "The rating for First, Break All the Rules: What the World's Greatest Managers Do Differently Marcus Buckingham and Curt Coffman has been written to the spreadsheet\n",
      "The rating for Good Company: Business Success in the Worthiness Era (BK Business) Laurie Bassi, Ed Frauenheim and Dan McMurrer, with Larry Costello has been written to the spreadsheet\n",
      "The rating for Good to Great: Why Some Companies Make the Leap...And Others Don't Jim Collins has been written to the spreadsheet\n",
      "The rating for Great by Choice: Uncertainty, Chaos, and Luck--Why Some Thrive Despite Them All Jim Collins and Morten T. Hansen has been written to the spreadsheet\n",
      "The rating for Help Them Grow or Watch Them Go: Career Conversations Employees Want (BK Business) Beverly Kaye and Julie Winkle Giulioni has been written to the spreadsheet\n",
      "The rating for How Companies Win: Profiting from Demand-Driven Business Models No Matter What Business You're In Rick Kash and David Calhoun has been written to the spreadsheet\n",
      "The rating for How The Mighty Fall: And Why Some Companies Never Give In Jim Collins has been written to the spreadsheet\n",
      "The rating for Intellectual Capital: The new wealth of organization Thomas A. Stewart has been written to the spreadsheet\n",
      "The rating for Key Performance Indicators (KPI): The 75 measures every manager needs to know (Financial Times Series) Bernard Marr has been written to the spreadsheet\n",
      "The rating for Leadership and the One Minute Manager Updated Ed: Increasing Effectiveness Through Situational Leadership II Ken Blanchard, Patricia Zigarmi and Drea Zigarmi has been written to the spreadsheet\n",
      "The rating for Lean In: Women, Work, and the Will to Lead Sheryl Sandberg has been written to the spreadsheet\n",
      "The rating for The Lords of Strategy: The Secret Intellectual History of the New Corporate World Walter Kiechel III has been written to the spreadsheet\n",
      "The rating for Managing Up: How to Forge an Effective Relationship With Those Above You Rosanne Badowski has been written to the spreadsheet\n",
      "The rating for Multipliers: How the Best Leaders Make Everyone Smarter Liz Wiseman with Greg McKeown has been written to the spreadsheet\n",
      "The rating for Now, Discover Your Strengths Marcus Buckingham and Donald O. Clifton has been written to the spreadsheet\n",
      "The rating for Peak: How Great Companies Get Their Mojo from Maslow Chip Conley has been written to the spreadsheet\n",
      "The rating for Roar! Get Heard in the Sales and Marketing Jungle: A Business Fable Kevin Daum and Daniel A. Turner has been written to the spreadsheet\n",
      "The rating for Simple Numbers, Straight Talk, Big Profits!: 4 Keys to Unlock Your Business Potential Greg Crabtree with Beverly Blair Harzog has been written to the spreadsheet\n",
      "The rating for The 7 Habits of Highly Effective People: Powerful Lessons in Personal Change Stephen R. Covey has been written to the spreadsheet\n",
      "The rating for The Balanced Scorecard: Translating Strategy into Action Robert S. Kaplan and David P. Norton has been written to the spreadsheet\n",
      "The rating for The Checklist Manifesto: How to Get Things Right Atul Gawande has been written to the spreadsheet\n",
      "The rating for The Customer-Funded Business: Start, Finance, or Grow Your Company with Your Customers' Cash John Mullins has been written to the spreadsheet\n",
      "The rating for The E-Myth Revisited: Why Most Small Businesses Don't Work and What to Do About It Michael E. Gerber has been written to the spreadsheet\n",
      "The rating for The Five Dysfunctions of a Team: A Leadership Fable Patrick M. Lencioni has been written to the spreadsheet\n",
      "The rating for The Great Game of Business, Expanded and Updated: The Only Sensible Way to Run a Company Jack Stack has been written to the spreadsheet\n"
     ]
    },
    {
     "name": "stdout",
     "output_type": "stream",
     "text": [
      "The rating for The Innovator's Dilemma: The Revolutionary Book That Will Change the Way You do Business Clayton M. Christensen has been written to the spreadsheet\n",
      "The rating for The Inside Advantage: The Strategy that Unlocks the Hidden Growth in Your Business Robert H. Bloom and Dave Conti has been written to the spreadsheet\n",
      "The rating for The Lean Startup: How Today's Entrepreneurs Use Continuous Innovation to Create Radically Successful Businesses Eric Ries has been written to the spreadsheet\n",
      "The rating for The New Rules of Marketing & PR: How to Use Social Media, Online Video, Mobile Applications, Blogs, News Releases, and Viral Marketing to Reach Buyers Directly David Meerman Scott has been written to the spreadsheet\n",
      "The rating for The One Thing You Need to Know: ... About Great Managing, Great Leading, and Sustained Individual Success Marcus Buckingham has been written to the spreadsheet\n",
      "The rating for The Soul of Money: Reclaiming the Wealth of Our Inner Resources Lynne Twist with Teresa Barker has been written to the spreadsheet\n",
      "The rating for The Ultimate Question 2.0 (Revised and Expanded Edition): How Net Promoter Companies Thrive in a Customer-Driven World Fred Reichheld has been written to the spreadsheet\n",
      "The rating for The Weekly Coaching Conversation: A Business Fable about Taking Your Team's Performance and Your Career to the Next Level Brian Souza has been written to the spreadsheet\n",
      "The rating for Titan: The Life of John D. Rockefeller, Sr. Ron Chernow has been written to the spreadsheet\n",
      "The rating for Topgrading, 3rd Edition: The Proven Hiring and Promoting Method That Turbocharges Company Performance Bradford D. Smart has been written to the spreadsheet\n",
      "The rating for Trombone Player Wanted Marcus Buckingham Marcus Buckingham has been written to the spreadsheet\n",
      "The rating for Uncommon Service: How to Win by Putting Customers at the Core of Your Business Frances Frei and Anne Morriss has been written to the spreadsheet\n",
      "The rating for Who: The A Method for Hiring Geoff Smart and Randy Street has been written to the spreadsheet\n",
      "ALl finished. Check your spreadsheet.\n"
     ]
    }
   ],
   "source": [
    "# create a loop\n",
    "    #for the current row:\n",
    "    #get the author's name (1st column) and the title of the book (2nd column) as a string\n",
    "    #input that string into the goodreads search engine\n",
    "    #https://www.goodreads.com/search?q=TEST\n",
    "    #Get the star rating (a number our of 5)\n",
    "    #write the star rating into the spreadsheet in the 3rd column\n",
    "\n",
    "target = \" avg rating\"\n",
    "\n",
    "for i in range(1, len(list_of_titles), 1):\n",
    "    title = list_of_titles[i]\n",
    "    goodreadsURL = \"https://www.goodreads.com/search?q=\" + title\n",
    "    #goodreadsURL = \"https://pythonprogramming.net/parsememcparseface/\"\n",
    "    goodreadsURL = goodreadsURL.replace(\" \", \"+\")\n",
    "    #print(str(goodreadsURL))\n",
    "    \n",
    "    #something from requests\n",
    "    try:\n",
    "        r = requests.get(goodreadsURL, verify=True)\n",
    "    except:\n",
    "        print(\"An error occurred. The operation has failed to pull data from RottenTomatoes.\")\n",
    "        break\n",
    "    \n",
    "    #BeautifulSoup\n",
    "    soup = bs.BeautifulSoup(r.text,'html.parser')\n",
    "    soup = str(soup)\n",
    "    #print(soup.prettify())\n",
    "    \n",
    "    # I should use the re module for this: re.search(start_substring , string).start() or .span() re.search(end_substring, string).start() or .span()\n",
    "    starRatingStart = soup.find(str('avg rating')) - 5\n",
    "    starRatingEnd = soup.find(' avg rating')\n",
    "    starRating = soup[starRatingStart:starRatingEnd]\n",
    "    #print(\"{} {}\".format(starRating, title))\n",
    "    \n",
    "    #write the star rating info to the spreadsheet\n",
    "    sheet.cell(row=(i + 1), column=3).value = float(starRating)\n",
    "    wb.save(r\"C:\\Users\\Josep\\Desktop\\example2.xlsx\")\n",
    "    \n",
    "    print(\"The rating for {} has been written to the spreadsheet\".format(title))\n",
    "print(\"ALl finished. Check your spreadsheet.\")\n",
    "    \n",
    "    "
   ]
  },
  {
   "cell_type": "code",
   "execution_count": 26,
   "metadata": {},
   "outputs": [],
   "source": [
    "#write this information into the 3rd column of the spreadsheet\n",
    "\n"
   ]
  },
  {
   "cell_type": "code",
   "execution_count": 25,
   "metadata": {},
   "outputs": [],
   "source": []
  },
  {
   "cell_type": "code",
   "execution_count": null,
   "metadata": {},
   "outputs": [],
   "source": []
  }
 ],
 "metadata": {
  "kernelspec": {
   "display_name": "Python [conda env:Anaconda3]",
   "language": "python",
   "name": "conda-env-Anaconda3-py"
  },
  "language_info": {
   "codemirror_mode": {
    "name": "ipython",
    "version": 3
   },
   "file_extension": ".py",
   "mimetype": "text/x-python",
   "name": "python",
   "nbconvert_exporter": "python",
   "pygments_lexer": "ipython3",
   "version": "3.6.6"
  }
 },
 "nbformat": 4,
 "nbformat_minor": 2
}
